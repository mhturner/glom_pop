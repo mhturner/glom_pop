{
 "cells": [
  {
   "cell_type": "code",
   "execution_count": 1,
   "metadata": {
    "collapsed": true
   },
   "outputs": [],
   "source": [
    "%matplotlib inline\n",
    "import os\n",
    "import ants\n",
    "import numpy as np\n",
    "import time\n",
    "import nibabel as nib\n",
    "import pandas as pd\n",
    "import matplotlib.pyplot as plt\n",
    "\n",
    "from glom_pop import dataio, alignment\n",
    "\n",
    "\n",
    "#                   (Time series, associated anatomical z series for this fly)\n",
    "brain_file_sets = [('TSeries-20210804-001', 'ZSeries-20210804-001'),\n",
    "                   ('TSeries-20210804-002', 'ZSeries-20210804-001'),\n",
    "                   ('TSeries-20210804-004', 'ZSeries-20210804-004'),\n",
    "                   ('TSeries-20210804-005', 'ZSeries-20210804-004'),\n",
    "                   ('TSeries-20210804-007', 'ZSeries-20210804-007'),\n",
    "                   ('TSeries-20210804-008', 'ZSeries-20210804-007'),\n",
    "                   ]\n",
    "\n",
    "meanbrain_fn = 'chat_meanbrain_{}.nii'.format('20210805')\n",
    "\n",
    "data_dir = '/oak/stanford/groups/trc/data/Max/ImagingData/Bruker'\n",
    "base_dir = '/oak/stanford/groups/trc/data/Max/Analysis/glom_pop'"
   ]
  },
  {
   "cell_type": "code",
   "execution_count": 2,
   "metadata": {
    "collapsed": true
   },
   "outputs": [],
   "source": [
    "# Load master meanbrain\n",
    "reference_fn = 'ZSeries-20210804-001'\n",
    "metadata = dataio.get_bruker_metadata(os.path.join(base_dir, 'anatomical_brains', reference_fn) + '.xml')\n",
    "meanbrain_red = dataio.get_ants_brain(os.path.join(base_dir, 'mean_brains', meanbrain_fn), metadata, channel=0)\n",
    "\n",
    "# Load glom map, in meanbrain space\n",
    "mask_fp = os.path.join(base_dir, 'aligned', 'glom_mask_reg2meanbrain.nii')\n",
    "glom_mask_2_meanbrain = np.asanyarray(nib.load(mask_fp).dataobj).astype('uint32')\n",
    "# Load mask key for VPN types\n",
    "vpn_types = pd.read_csv(os.path.join(base_dir, 'template_brain', 'vpn_types.csv'))\n",
    "# Filter glom map s.t. only big gloms are included\n",
    "glom_size_threshold = 300\n",
    "glom_mask_2_meanbrain = alignment.filterGlomMask(glom_mask_2_meanbrain, glom_size_threshold)\n",
    "vals = np.unique(glom_mask_2_meanbrain)[1:]  # exclude first val (=0, not a glom)\n",
    "names = vpn_types.loc[vpn_types.get('Unnamed: 0').isin(vals), 'vpn_types']\n",
    "\n",
    "# convert to ants image\n",
    "glom_mask_2_meanbrain = ants.from_numpy(glom_mask_2_meanbrain, spacing=meanbrain_red.spacing)"
   ]
  },
  {
   "cell_type": "code",
   "execution_count": 3,
   "metadata": {},
   "outputs": [
    {
     "data": {
      "text/plain": [
       "<matplotlib.image.AxesImage at 0x7f609d18a7f0>"
      ]
     },
     "execution_count": 3,
     "metadata": {},
     "output_type": "execute_result"
    },
    {
     "data": {
      "image/png": "[encoded data removed]",
      "text/plain": [
       "<Figure size 432x288 with 1 Axes>"
      ]
     },
     "metadata": {},
     "output_type": "display_data"
    }
   ],
   "source": [
    "plt.imshow(glom_mask_2_meanbrain.max(axis=2).T)"
   ]
  },
  {
   "cell_type": "code",
   "execution_count": 4,
   "metadata": {
    "collapsed": true
   },
   "outputs": [],
   "source": [
    "bf = brain_file_sets[0]"
   ]
  },
  {
   "cell_type": "code",
   "execution_count": 5,
   "metadata": {
    "collapsed": true
   },
   "outputs": [],
   "source": [
    "functional_fn = bf[0]\n",
    "anatomical_fn = bf[1]\n",
    "\n",
    "date_str = functional_fn.split('-')[1]\n",
    "\n",
    "# # # Load anatomical scan # # #\n",
    "anat_filepath = os.path.join(data_dir, date_str, anatomical_fn)\n",
    "metadata = dataio.get_bruker_metadata(anat_filepath + '.xml')\n",
    "red_brain = dataio.get_ants_brain(anat_filepath + '_channel_1.nii', metadata)  # xyz\n",
    "\n",
    "# # # Compute transform from ANAT -> MEANBRAIN # # #\n",
    "reg_AM = ants.registration(meanbrain_red,\n",
    "                           red_brain,\n",
    "                           type_of_transform='SyN',\n",
    "                           flow_sigma=3,\n",
    "                           total_sigma=0)\n",
    "\n",
    "# # # Apply inverse transform to glom mask # # #\n",
    "glom_mask_2_anat = ants.apply_transforms(fixed=red_brain,\n",
    "                                         moving=glom_mask_2_meanbrain,\n",
    "                                         transformlist=reg_AM['invtransforms'],\n",
    "                                         interpolator='nearestNeighbor',\n",
    "                                         defaultvalue=0)\n"
   ]
  },
  {
   "cell_type": "code",
   "execution_count": 6,
   "metadata": {},
   "outputs": [
    {
     "data": {
      "text/plain": [
       "ANTsImage (RAI)\n",
       "\t Pixel Type : unsigned int (uint32)\n",
       "\t Components : 1\n",
       "\t Dimensions : (354, 202, 45)\n",
       "\t Spacing    : (0.5002, 0.5002, 1.0)\n",
       "\t Origin     : (0.0, 0.0, 0.0)\n",
       "\t Direction  : [1. 0. 0. 0. 1. 0. 0. 0. 1.]"
      ]
     },
     "execution_count": 6,
     "metadata": {},
     "output_type": "execute_result"
    }
   ],
   "source": [
    "glom_mask_2_anat"
   ]
  },
  {
   "cell_type": "code",
   "execution_count": 7,
   "metadata": {},
   "outputs": [
    {
     "data": {
      "text/plain": [
       "<matplotlib.image.AxesImage at 0x7f609cf1c278>"
      ]
     },
     "execution_count": 7,
     "metadata": {},
     "output_type": "execute_result"
    },
    {
     "data": {
      "image/png": "[encoded data removed]",
      "text/plain": [
       "<Figure size 432x288 with 1 Axes>"
      ]
     },
     "metadata": {},
     "output_type": "display_data"
    }
   ],
   "source": [
    "plt.imshow(glom_mask_2_anat.max(axis=2).T)"
   ]
  },
  {
   "cell_type": "code",
   "execution_count": null,
   "metadata": {
    "collapsed": true
   },
   "outputs": [],
   "source": []
  },
  {
   "cell_type": "code",
   "execution_count": 8,
   "metadata": {
    "collapsed": true
   },
   "outputs": [],
   "source": [
    "# # # Compute transform from FXN -> ANAT # # #\n",
    "fxn_filepath = os.path.join(data_dir, date_str, functional_fn)\n",
    "metadata_fxn = dataio.get_bruker_metadata(fxn_filepath + '.xml')\n",
    "fxn_red = dataio.get_time_averaged_brain(dataio.get_ants_brain(fxn_filepath + '_reg.nii', metadata_fxn, channel=0))  # xyz\n",
    "reg_FA = ants.registration(red_brain,\n",
    "                           fxn_red,\n",
    "                           type_of_transform='SyN',\n",
    "                           flow_sigma=3,\n",
    "                           total_sigma=0)\n",
    "\n",
    "\n",
    "# # # Apply inverse transform to glom mask # # #\n",
    "glom_mask_2_fxn = ants.apply_transforms(fixed=fxn_red,\n",
    "                                        moving=glom_mask_2_anat,\n",
    "                                        transformlist=reg_FA['invtransforms'],\n",
    "                                        interpolator='nearestNeighbor',\n",
    "                                        defaultvalue=0)"
   ]
  },
  {
   "cell_type": "code",
   "execution_count": null,
   "metadata": {
    "collapsed": true
   },
   "outputs": [],
   "source": []
  },
  {
   "cell_type": "code",
   "execution_count": 9,
   "metadata": {},
   "outputs": [
    {
     "data": {
      "text/plain": [
       "ANTsImage (RAI)\n",
       "\t Pixel Type : float (float32)\n",
       "\t Components : 1\n",
       "\t Dimensions : (177, 101, 12)\n",
       "\t Spacing    : (1.0004, 1.0004, 4.0)\n",
       "\t Origin     : (0.0, 0.0, 0.0)\n",
       "\t Direction  : [1. 0. 0. 0. 1. 0. 0. 0. 1.]"
      ]
     },
     "execution_count": 9,
     "metadata": {},
     "output_type": "execute_result"
    }
   ],
   "source": [
    "glom_mask_2_fxn"
   ]
  },
  {
   "cell_type": "code",
   "execution_count": 10,
   "metadata": {},
   "outputs": [
    {
     "data": {
      "text/plain": [
       "<matplotlib.image.AxesImage at 0x7f5f75ebe6d8>"
      ]
     },
     "execution_count": 10,
     "metadata": {},
     "output_type": "execute_result"
    },
    {
     "data": {
      "image/png": "[encoded data removed]",
      "text/plain": [
       "<Figure size 432x288 with 1 Axes>"
      ]
     },
     "metadata": {},
     "output_type": "display_data"
    }
   ],
   "source": [
    "plt.imshow(glom_mask_2_fxn.max(axis=2).T)"
   ]
  },
  {
   "cell_type": "code",
   "execution_count": 11,
   "metadata": {
    "collapsed": true
   },
   "outputs": [],
   "source": [
    "# Load functional (green) brain series\n",
    "green_brain = dataio.get_ants_brain(fxn_filepath + '_reg.nii', metadata_fxn, channel=1)  # xyzt"
   ]
  },
  {
   "cell_type": "code",
   "execution_count": 12,
   "metadata": {
    "collapsed": true
   },
   "outputs": [],
   "source": [
    "glom_responses = alignment.getGlomResponses(green_brain,\n",
    "                                            glom_mask_2_fxn.numpy(),\n",
    "                                            mask_values=None)"
   ]
  },
  {
   "cell_type": "code",
   "execution_count": 14,
   "metadata": {},
   "outputs": [
    {
     "data": {
      "text/plain": [
       "(177, 101, 12)"
      ]
     },
     "execution_count": 14,
     "metadata": {},
     "output_type": "execute_result"
    }
   ],
   "source": [
    "glom_mask_2_fxn.shape"
   ]
  },
  {
   "cell_type": "code",
   "execution_count": 13,
   "metadata": {},
   "outputs": [
    {
     "data": {
      "text/plain": [
       "(17, 7039)"
      ]
     },
     "execution_count": 13,
     "metadata": {},
     "output_type": "execute_result"
    }
   ],
   "source": [
    "glom_responses.shape"
   ]
  },
  {
   "cell_type": "code",
   "execution_count": null,
   "metadata": {
    "collapsed": true
   },
   "outputs": [],
   "source": [
    " # ATTACH: meanbrain, glom mask, responses, key/names"
   ]
  },
  {
   "cell_type": "code",
   "execution_count": 16,
   "metadata": {},
   "outputs": [
    {
     "data": {
      "text/plain": [
       "array([ 0.,  2.,  3.,  6.,  7.,  8.,  9., 11., 13., 15., 20., 31., 41.,\n",
       "       42., 43., 44., 45.], dtype=float32)"
      ]
     },
     "execution_count": 16,
     "metadata": {},
     "output_type": "execute_result"
    }
   ],
   "source": [
    "np.unique(glom_mask_2_fxn.numpy())"
   ]
  },
  {
   "cell_type": "code",
   "execution_count": 19,
   "metadata": {},
   "outputs": [
    {
     "data": {
      "text/plain": [
       "array([ 2,  3,  6,  7,  8,  9, 11, 13, 15, 20, 31, 41, 42, 43, 44, 45],\n",
       "      dtype=uint32)"
      ]
     },
     "execution_count": 19,
     "metadata": {},
     "output_type": "execute_result"
    }
   ],
   "source": [
    "vals"
   ]
  },
  {
   "cell_type": "code",
   "execution_count": null,
   "metadata": {
    "collapsed": true
   },
   "outputs": [],
   "source": []
  }
 ],
 "metadata": {
  "kernelspec": {
   "display_name": "Python 3 (ipykernel)",
   "language": "python",
   "name": "python3"
  },
  "language_info": {
   "codemirror_mode": {
    "name": "ipython",
    "version": 3
   },
   "file_extension": ".py",
   "mimetype": "text/x-python",
   "name": "python",
   "nbconvert_exporter": "python",
   "pygments_lexer": "ipython3",
   "version": "3.6.1"
  }
 },
 "nbformat": 4,
 "nbformat_minor": 2
}
